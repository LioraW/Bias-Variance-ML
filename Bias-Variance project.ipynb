{
 "cells": [
  {
   "cell_type": "markdown",
   "id": "22791ea9",
   "metadata": {},
   "source": [
    "a) The average function $\\bar{g}(x)$ denotes $\\mathbf{E}_{D}[g^{(D)}(x)]$.\n",
    "\n",
    "Since H consists of the functions in the form h(x) = ax + b, we choose the line that passes through the two data points \n",
    "$(x_{1}, x_{1}^2)$ and $(x_{2}, x_{1}^2)$.\n",
    "\n",
    "The Equation of a line that passes through a point is $ y - y_{1} = m(x - x_{1})$\n",
    "where m is the slope of the line. We can find the slope from two the points:\n",
    "\n",
    "m = $(\\frac{x_{2}^2-x_{1}^2}{x_{2}-x_{1}})$\n",
    "$ = x_{1} + x_{2} $\n",
    "\n",
    "$ \\hat{y} - x_{1}^2  = (x_{1} + x_{2})(x - x_{1})$\n",
    "\n",
    "$ \\hat{y} = (x_{1} + x_{2})(x - x_{1}) + x_{1}^2 $\n",
    "\n",
    "$         = x_{1}x - x_{1}^2 + x_{2}x - x_{2}x_{1} + x_{1}^2 $\n",
    "\n",
    "$         = x_{1}x + x_{2}x - x_{2}x_{1} $\n",
    "\n",
    "$         = (x_{1}+ x_{2})x - x_{2}x_{1} $\n",
    "\n",
    "So based on that line, we can find $\\bar{g}(x)$:\n",
    "\n",
    "$ \\bar{g}(x) = \\mathbf{E}_{D}[ (x_{1}+ x_{2})x - x_{2}x_{1}] $\n",
    "\n",
    "$= \\mathbf{E}_{x_{1}, x_{2}}[(x_{1}+ x_{2})x - x_{2}x_{1} ] $\n",
    "\n",
    "$= {\\displaystyle \\int_{x_{1} = -1}^{+1} \\int_{x_{2} = -1}^{+1} [(x_{1}+ x_{2})x - x_{2}x_{1} ]*p(x_{1})*p(x_{2}) \\,dx_{1}dx_{2}} $\n",
    "\n",
    "$= \\frac{1}{2}*\\frac{1}{2}{\\displaystyle \\int_{x_{1} = -1}^{+1} \\int_{x_{2} = -1}^{+1} [ (x_{1}+ x_{2})x - x_{2}x_{1}] \\,dx_{2}dx_{1}} $\n",
    "\n",
    "$=0$\n",
    "\n",
    "\n",
    "\n"
   ]
  },
  {
   "cell_type": "code",
   "execution_count": 3,
   "id": "c4c724a8",
   "metadata": {},
   "outputs": [],
   "source": [
    "import matplotlib.pyplot as plt\n",
    "import numpy as np\n"
   ]
  },
  {
   "cell_type": "code",
   "execution_count": 23,
   "id": "d2afff1d",
   "metadata": {},
   "outputs": [
    {
     "data": {
      "image/png": "[encoded data removed]",
      "text/plain": [
       "<Figure size 432x288 with 1 Axes>"
      ]
     },
     "metadata": {
      "needs_background": "light"
     },
     "output_type": "display_data"
    }
   ],
   "source": [
    "def generate_data(seed_num):\n",
    "    rng = np.random.default_rng(seed = seed_num)\n",
    "    size = 100\n",
    "    return rng.uniform(size=size) * rng.choice([-1,1], size)\n",
    "\n",
    "x = generate_data(42)\n",
    "y = np.square(x)\n",
    "plt.scatter(x,y)\n",
    "plt.show()\n",
    "\n"
   ]
  },
  {
   "cell_type": "code",
   "execution_count": null,
   "id": "046a3ff0",
   "metadata": {},
   "outputs": [],
   "source": []
  }
 ],
 "metadata": {
  "kernelspec": {
   "display_name": "Python 3",
   "language": "python",
   "name": "python3"
  },
  "language_info": {
   "codemirror_mode": {
    "name": "ipython",
    "version": 3
   },
   "file_extension": ".py",
   "mimetype": "text/x-python",
   "name": "python",
   "nbconvert_exporter": "python",
   "pygments_lexer": "ipython3",
   "version": "3.8.8"
  }
 },
 "nbformat": 4,
 "nbformat_minor": 5
}
